{
 "cells": [
  {
   "cell_type": "code",
   "execution_count": 1,
   "id": "868a077f",
   "metadata": {},
   "outputs": [],
   "source": [
    "import matplotlib.pyplot as plt\n",
    "import numpy as np\n",
    "import pandas as pd\n",
    "import seaborn\n",
    "from sklearn.feature_extraction.text import CountVectorizer\n",
    "from sklearn.tree import DecisionTreeClassifier\n",
    "from scipy.sparse import hstack\n",
    "from sklearn import preprocessing\n",
    "\n"
   ]
  },
  {
   "cell_type": "markdown",
   "id": "163062cd",
   "metadata": {},
   "source": [
    "## Load all data from input folder"
   ]
  },
  {
   "cell_type": "code",
   "execution_count": 2,
   "id": "a77398cf",
   "metadata": {},
   "outputs": [],
   "source": [
    "USERS = pd.read_csv('input/train_users.csv')\n",
    "TEST_USERS = pd.read_csv('input/test_users.csv')\n",
    "AGE_BUCKETS = pd.read_csv('input/age_gender_bkts.csv')\n",
    "SESSIONS = pd.read_csv('input/sessions.csv')\n",
    "COUNTRIES = pd.read_csv('input/countries.csv')\n",
    "\n",
    "TRAIN_SET = USERS\n",
    "TEST_SET = TEST_USERS"
   ]
  },
  {
   "cell_type": "markdown",
   "id": "cea0bcbe",
   "metadata": {},
   "source": [
    "`TRAIN_SET` and `TEST_SET` will be used later for building the model"
   ]
  },
  {
   "cell_type": "markdown",
   "id": "44124c37",
   "metadata": {},
   "source": [
    "## Data cleaning\n",
    "### age_gender_bckts.csv cleaning and preparation"
   ]
  },
  {
   "cell_type": "code",
   "execution_count": 3,
   "id": "9afae824",
   "metadata": {},
   "outputs": [
    {
     "data": {
      "text/html": [
       "<div>\n",
       "<style scoped>\n",
       "    .dataframe tbody tr th:only-of-type {\n",
       "        vertical-align: middle;\n",
       "    }\n",
       "\n",
       "    .dataframe tbody tr th {\n",
       "        vertical-align: top;\n",
       "    }\n",
       "\n",
       "    .dataframe thead th {\n",
       "        text-align: right;\n",
       "    }\n",
       "</style>\n",
       "<table border=\"1\" class=\"dataframe\">\n",
       "  <thead>\n",
       "    <tr style=\"text-align: right;\">\n",
       "      <th></th>\n",
       "      <th>age_bucket</th>\n",
       "      <th>country_destination</th>\n",
       "      <th>gender</th>\n",
       "      <th>population_in_thousands</th>\n",
       "      <th>year</th>\n",
       "    </tr>\n",
       "  </thead>\n",
       "  <tbody>\n",
       "    <tr>\n",
       "      <th>0</th>\n",
       "      <td>100+</td>\n",
       "      <td>AU</td>\n",
       "      <td>male</td>\n",
       "      <td>1.0</td>\n",
       "      <td>2015.0</td>\n",
       "    </tr>\n",
       "    <tr>\n",
       "      <th>1</th>\n",
       "      <td>95-99</td>\n",
       "      <td>AU</td>\n",
       "      <td>male</td>\n",
       "      <td>9.0</td>\n",
       "      <td>2015.0</td>\n",
       "    </tr>\n",
       "    <tr>\n",
       "      <th>2</th>\n",
       "      <td>90-94</td>\n",
       "      <td>AU</td>\n",
       "      <td>male</td>\n",
       "      <td>47.0</td>\n",
       "      <td>2015.0</td>\n",
       "    </tr>\n",
       "    <tr>\n",
       "      <th>3</th>\n",
       "      <td>85-89</td>\n",
       "      <td>AU</td>\n",
       "      <td>male</td>\n",
       "      <td>118.0</td>\n",
       "      <td>2015.0</td>\n",
       "    </tr>\n",
       "    <tr>\n",
       "      <th>4</th>\n",
       "      <td>80-84</td>\n",
       "      <td>AU</td>\n",
       "      <td>male</td>\n",
       "      <td>199.0</td>\n",
       "      <td>2015.0</td>\n",
       "    </tr>\n",
       "  </tbody>\n",
       "</table>\n",
       "</div>"
      ],
      "text/plain": [
       "  age_bucket country_destination gender  population_in_thousands    year\n",
       "0       100+                  AU   male                      1.0  2015.0\n",
       "1      95-99                  AU   male                      9.0  2015.0\n",
       "2      90-94                  AU   male                     47.0  2015.0\n",
       "3      85-89                  AU   male                    118.0  2015.0\n",
       "4      80-84                  AU   male                    199.0  2015.0"
      ]
     },
     "execution_count": 3,
     "metadata": {},
     "output_type": "execute_result"
    }
   ],
   "source": [
    "AGE_BUCKETS.head()"
   ]
  },
  {
   "cell_type": "code",
   "execution_count": 4,
   "id": "6bbc7e36",
   "metadata": {},
   "outputs": [
    {
     "data": {
      "text/plain": [
       "False"
      ]
     },
     "execution_count": 4,
     "metadata": {},
     "output_type": "execute_result"
    }
   ],
   "source": [
    "AGE_BUCKETS.isnull().values.any()"
   ]
  },
  {
   "cell_type": "markdown",
   "id": "45b3f89c",
   "metadata": {},
   "source": [
    "As we can see, there is no null values in this dataset so there is no need for cleaning\n",
    "What we can do is calculate average of age_bucket field so it is number and easier to work with rather than text"
   ]
  },
  {
   "cell_type": "code",
   "execution_count": 5,
   "id": "c698b5d8",
   "metadata": {},
   "outputs": [
    {
     "data": {
      "text/plain": [
       "array(['100+', '95-99', '90-94', '85-89', '80-84', '75-79', '70-74',\n",
       "       '65-69', '60-64', '55-59', '50-54', '45-49', '40-44', '35-39',\n",
       "       '30-34', '25-29', '20-24', '15-19', '10-14', '5-9', '0-4'],\n",
       "      dtype=object)"
      ]
     },
     "execution_count": 5,
     "metadata": {},
     "output_type": "execute_result"
    }
   ],
   "source": [
    "AGE_BUCKETS[\"age_bucket\"].unique()"
   ]
  },
  {
   "cell_type": "markdown",
   "id": "5bb427cf",
   "metadata": {},
   "source": [
    "100+ can't be converted to number so lets use 100-104, same increment of 4 used for other groups"
   ]
  },
  {
   "cell_type": "code",
   "execution_count": 6,
   "id": "f75bc070",
   "metadata": {},
   "outputs": [],
   "source": [
    "AGE_BUCKETS.loc[AGE_BUCKETS.age_bucket == '100+', 'age_bucket'] = '100-104'"
   ]
  },
  {
   "cell_type": "code",
   "execution_count": 7,
   "id": "7168a222",
   "metadata": {},
   "outputs": [],
   "source": [
    "\n",
    "def to_avg(age_str):\n",
    "    age_str = age_str.split(\"-\")\n",
    "    age_str = [int(x) for x in age_str]\n",
    "    return sum(age_str) / len(age_str)\n",
    "\n",
    "AGE_BUCKETS[\"age_avg\"] = AGE_BUCKETS[\"age_bucket\"].apply(to_avg)"
   ]
  },
  {
   "cell_type": "code",
   "execution_count": 8,
   "id": "7d767dd2",
   "metadata": {},
   "outputs": [
    {
     "data": {
      "text/html": [
       "<div>\n",
       "<style scoped>\n",
       "    .dataframe tbody tr th:only-of-type {\n",
       "        vertical-align: middle;\n",
       "    }\n",
       "\n",
       "    .dataframe tbody tr th {\n",
       "        vertical-align: top;\n",
       "    }\n",
       "\n",
       "    .dataframe thead th {\n",
       "        text-align: right;\n",
       "    }\n",
       "</style>\n",
       "<table border=\"1\" class=\"dataframe\">\n",
       "  <thead>\n",
       "    <tr style=\"text-align: right;\">\n",
       "      <th></th>\n",
       "      <th>age_bucket</th>\n",
       "      <th>country_destination</th>\n",
       "      <th>gender</th>\n",
       "      <th>population_in_thousands</th>\n",
       "      <th>year</th>\n",
       "      <th>age_avg</th>\n",
       "    </tr>\n",
       "  </thead>\n",
       "  <tbody>\n",
       "    <tr>\n",
       "      <th>0</th>\n",
       "      <td>100-104</td>\n",
       "      <td>AU</td>\n",
       "      <td>male</td>\n",
       "      <td>1.0</td>\n",
       "      <td>2015.0</td>\n",
       "      <td>102.0</td>\n",
       "    </tr>\n",
       "    <tr>\n",
       "      <th>1</th>\n",
       "      <td>95-99</td>\n",
       "      <td>AU</td>\n",
       "      <td>male</td>\n",
       "      <td>9.0</td>\n",
       "      <td>2015.0</td>\n",
       "      <td>97.0</td>\n",
       "    </tr>\n",
       "    <tr>\n",
       "      <th>2</th>\n",
       "      <td>90-94</td>\n",
       "      <td>AU</td>\n",
       "      <td>male</td>\n",
       "      <td>47.0</td>\n",
       "      <td>2015.0</td>\n",
       "      <td>92.0</td>\n",
       "    </tr>\n",
       "    <tr>\n",
       "      <th>3</th>\n",
       "      <td>85-89</td>\n",
       "      <td>AU</td>\n",
       "      <td>male</td>\n",
       "      <td>118.0</td>\n",
       "      <td>2015.0</td>\n",
       "      <td>87.0</td>\n",
       "    </tr>\n",
       "    <tr>\n",
       "      <th>4</th>\n",
       "      <td>80-84</td>\n",
       "      <td>AU</td>\n",
       "      <td>male</td>\n",
       "      <td>199.0</td>\n",
       "      <td>2015.0</td>\n",
       "      <td>82.0</td>\n",
       "    </tr>\n",
       "  </tbody>\n",
       "</table>\n",
       "</div>"
      ],
      "text/plain": [
       "  age_bucket country_destination gender  population_in_thousands    year  \\\n",
       "0    100-104                  AU   male                      1.0  2015.0   \n",
       "1      95-99                  AU   male                      9.0  2015.0   \n",
       "2      90-94                  AU   male                     47.0  2015.0   \n",
       "3      85-89                  AU   male                    118.0  2015.0   \n",
       "4      80-84                  AU   male                    199.0  2015.0   \n",
       "\n",
       "   age_avg  \n",
       "0    102.0  \n",
       "1     97.0  \n",
       "2     92.0  \n",
       "3     87.0  \n",
       "4     82.0  "
      ]
     },
     "execution_count": 8,
     "metadata": {},
     "output_type": "execute_result"
    }
   ],
   "source": [
    "AGE_BUCKETS.head()"
   ]
  },
  {
   "cell_type": "code",
   "execution_count": 9,
   "id": "c7ac3a72",
   "metadata": {},
   "outputs": [
    {
     "data": {
      "text/plain": [
       "AU    42\n",
       "CA    42\n",
       "DE    42\n",
       "ES    42\n",
       "FR    42\n",
       "GB    42\n",
       "IT    42\n",
       "NL    42\n",
       "PT    42\n",
       "US    42\n",
       "Name: country_destination, dtype: int64"
      ]
     },
     "execution_count": 9,
     "metadata": {},
     "output_type": "execute_result"
    }
   ],
   "source": [
    "AGE_BUCKETS['country_destination'].value_counts()"
   ]
  },
  {
   "cell_type": "code",
   "execution_count": 10,
   "id": "f8e82d94",
   "metadata": {},
   "outputs": [
    {
     "data": {
      "text/plain": [
       "male      210\n",
       "female    210\n",
       "Name: gender, dtype: int64"
      ]
     },
     "execution_count": 10,
     "metadata": {},
     "output_type": "execute_result"
    }
   ],
   "source": [
    "AGE_BUCKETS['gender'].value_counts()"
   ]
  },
  {
   "cell_type": "markdown",
   "id": "306c1dc5",
   "metadata": {},
   "source": [
    "### sessions.csv cleaning and preparation"
   ]
  },
  {
   "cell_type": "code",
   "execution_count": 11,
   "id": "7a894738",
   "metadata": {},
   "outputs": [
    {
     "data": {
      "text/html": [
       "<div>\n",
       "<style scoped>\n",
       "    .dataframe tbody tr th:only-of-type {\n",
       "        vertical-align: middle;\n",
       "    }\n",
       "\n",
       "    .dataframe tbody tr th {\n",
       "        vertical-align: top;\n",
       "    }\n",
       "\n",
       "    .dataframe thead th {\n",
       "        text-align: right;\n",
       "    }\n",
       "</style>\n",
       "<table border=\"1\" class=\"dataframe\">\n",
       "  <thead>\n",
       "    <tr style=\"text-align: right;\">\n",
       "      <th></th>\n",
       "      <th>user_id</th>\n",
       "      <th>action</th>\n",
       "      <th>action_type</th>\n",
       "      <th>action_detail</th>\n",
       "      <th>device_type</th>\n",
       "      <th>secs_elapsed</th>\n",
       "    </tr>\n",
       "  </thead>\n",
       "  <tbody>\n",
       "    <tr>\n",
       "      <th>0</th>\n",
       "      <td>d1mm9tcy42</td>\n",
       "      <td>lookup</td>\n",
       "      <td>NaN</td>\n",
       "      <td>NaN</td>\n",
       "      <td>Windows Desktop</td>\n",
       "      <td>319.0</td>\n",
       "    </tr>\n",
       "    <tr>\n",
       "      <th>1</th>\n",
       "      <td>d1mm9tcy42</td>\n",
       "      <td>search_results</td>\n",
       "      <td>click</td>\n",
       "      <td>view_search_results</td>\n",
       "      <td>Windows Desktop</td>\n",
       "      <td>67753.0</td>\n",
       "    </tr>\n",
       "    <tr>\n",
       "      <th>2</th>\n",
       "      <td>d1mm9tcy42</td>\n",
       "      <td>lookup</td>\n",
       "      <td>NaN</td>\n",
       "      <td>NaN</td>\n",
       "      <td>Windows Desktop</td>\n",
       "      <td>301.0</td>\n",
       "    </tr>\n",
       "    <tr>\n",
       "      <th>3</th>\n",
       "      <td>d1mm9tcy42</td>\n",
       "      <td>search_results</td>\n",
       "      <td>click</td>\n",
       "      <td>view_search_results</td>\n",
       "      <td>Windows Desktop</td>\n",
       "      <td>22141.0</td>\n",
       "    </tr>\n",
       "    <tr>\n",
       "      <th>4</th>\n",
       "      <td>d1mm9tcy42</td>\n",
       "      <td>lookup</td>\n",
       "      <td>NaN</td>\n",
       "      <td>NaN</td>\n",
       "      <td>Windows Desktop</td>\n",
       "      <td>435.0</td>\n",
       "    </tr>\n",
       "    <tr>\n",
       "      <th>5</th>\n",
       "      <td>d1mm9tcy42</td>\n",
       "      <td>search_results</td>\n",
       "      <td>click</td>\n",
       "      <td>view_search_results</td>\n",
       "      <td>Windows Desktop</td>\n",
       "      <td>7703.0</td>\n",
       "    </tr>\n",
       "    <tr>\n",
       "      <th>6</th>\n",
       "      <td>d1mm9tcy42</td>\n",
       "      <td>lookup</td>\n",
       "      <td>NaN</td>\n",
       "      <td>NaN</td>\n",
       "      <td>Windows Desktop</td>\n",
       "      <td>115.0</td>\n",
       "    </tr>\n",
       "    <tr>\n",
       "      <th>7</th>\n",
       "      <td>d1mm9tcy42</td>\n",
       "      <td>personalize</td>\n",
       "      <td>data</td>\n",
       "      <td>wishlist_content_update</td>\n",
       "      <td>Windows Desktop</td>\n",
       "      <td>831.0</td>\n",
       "    </tr>\n",
       "    <tr>\n",
       "      <th>8</th>\n",
       "      <td>d1mm9tcy42</td>\n",
       "      <td>index</td>\n",
       "      <td>view</td>\n",
       "      <td>view_search_results</td>\n",
       "      <td>Windows Desktop</td>\n",
       "      <td>20842.0</td>\n",
       "    </tr>\n",
       "    <tr>\n",
       "      <th>9</th>\n",
       "      <td>d1mm9tcy42</td>\n",
       "      <td>lookup</td>\n",
       "      <td>NaN</td>\n",
       "      <td>NaN</td>\n",
       "      <td>Windows Desktop</td>\n",
       "      <td>683.0</td>\n",
       "    </tr>\n",
       "    <tr>\n",
       "      <th>10</th>\n",
       "      <td>d1mm9tcy42</td>\n",
       "      <td>search_results</td>\n",
       "      <td>click</td>\n",
       "      <td>view_search_results</td>\n",
       "      <td>Windows Desktop</td>\n",
       "      <td>59274.0</td>\n",
       "    </tr>\n",
       "    <tr>\n",
       "      <th>11</th>\n",
       "      <td>d1mm9tcy42</td>\n",
       "      <td>lookup</td>\n",
       "      <td>NaN</td>\n",
       "      <td>NaN</td>\n",
       "      <td>Windows Desktop</td>\n",
       "      <td>95.0</td>\n",
       "    </tr>\n",
       "    <tr>\n",
       "      <th>12</th>\n",
       "      <td>d1mm9tcy42</td>\n",
       "      <td>personalize</td>\n",
       "      <td>data</td>\n",
       "      <td>wishlist_content_update</td>\n",
       "      <td>Windows Desktop</td>\n",
       "      <td>1399.0</td>\n",
       "    </tr>\n",
       "    <tr>\n",
       "      <th>13</th>\n",
       "      <td>d1mm9tcy42</td>\n",
       "      <td>index</td>\n",
       "      <td>view</td>\n",
       "      <td>view_search_results</td>\n",
       "      <td>Windows Desktop</td>\n",
       "      <td>74886.0</td>\n",
       "    </tr>\n",
       "    <tr>\n",
       "      <th>14</th>\n",
       "      <td>d1mm9tcy42</td>\n",
       "      <td>similar_listings</td>\n",
       "      <td>data</td>\n",
       "      <td>similar_listings</td>\n",
       "      <td>Windows Desktop</td>\n",
       "      <td>255.0</td>\n",
       "    </tr>\n",
       "    <tr>\n",
       "      <th>15</th>\n",
       "      <td>d1mm9tcy42</td>\n",
       "      <td>ajax_refresh_subtotal</td>\n",
       "      <td>click</td>\n",
       "      <td>change_trip_characteristics</td>\n",
       "      <td>Windows Desktop</td>\n",
       "      <td>8134.0</td>\n",
       "    </tr>\n",
       "    <tr>\n",
       "      <th>16</th>\n",
       "      <td>d1mm9tcy42</td>\n",
       "      <td>similar_listings</td>\n",
       "      <td>data</td>\n",
       "      <td>similar_listings</td>\n",
       "      <td>Windows Desktop</td>\n",
       "      <td>183.0</td>\n",
       "    </tr>\n",
       "    <tr>\n",
       "      <th>17</th>\n",
       "      <td>d1mm9tcy42</td>\n",
       "      <td>ajax_refresh_subtotal</td>\n",
       "      <td>click</td>\n",
       "      <td>change_trip_characteristics</td>\n",
       "      <td>Windows Desktop</td>\n",
       "      <td>175570.0</td>\n",
       "    </tr>\n",
       "    <tr>\n",
       "      <th>18</th>\n",
       "      <td>d1mm9tcy42</td>\n",
       "      <td>show</td>\n",
       "      <td>NaN</td>\n",
       "      <td>NaN</td>\n",
       "      <td>Windows Desktop</td>\n",
       "      <td>86.0</td>\n",
       "    </tr>\n",
       "    <tr>\n",
       "      <th>19</th>\n",
       "      <td>d1mm9tcy42</td>\n",
       "      <td>personalize</td>\n",
       "      <td>data</td>\n",
       "      <td>wishlist_content_update</td>\n",
       "      <td>Windows Desktop</td>\n",
       "      <td>1535.0</td>\n",
       "    </tr>\n",
       "    <tr>\n",
       "      <th>20</th>\n",
       "      <td>d1mm9tcy42</td>\n",
       "      <td>show</td>\n",
       "      <td>view</td>\n",
       "      <td>p3</td>\n",
       "      <td>Windows Desktop</td>\n",
       "      <td>83251.0</td>\n",
       "    </tr>\n",
       "    <tr>\n",
       "      <th>21</th>\n",
       "      <td>d1mm9tcy42</td>\n",
       "      <td>lookup</td>\n",
       "      <td>NaN</td>\n",
       "      <td>NaN</td>\n",
       "      <td>Windows Desktop</td>\n",
       "      <td>360.0</td>\n",
       "    </tr>\n",
       "    <tr>\n",
       "      <th>22</th>\n",
       "      <td>d1mm9tcy42</td>\n",
       "      <td>search_results</td>\n",
       "      <td>click</td>\n",
       "      <td>view_search_results</td>\n",
       "      <td>Windows Desktop</td>\n",
       "      <td>2488.0</td>\n",
       "    </tr>\n",
       "    <tr>\n",
       "      <th>23</th>\n",
       "      <td>d1mm9tcy42</td>\n",
       "      <td>lookup</td>\n",
       "      <td>NaN</td>\n",
       "      <td>NaN</td>\n",
       "      <td>Windows Desktop</td>\n",
       "      <td>456.0</td>\n",
       "    </tr>\n",
       "    <tr>\n",
       "      <th>24</th>\n",
       "      <td>d1mm9tcy42</td>\n",
       "      <td>search_results</td>\n",
       "      <td>click</td>\n",
       "      <td>view_search_results</td>\n",
       "      <td>Windows Desktop</td>\n",
       "      <td>10053.0</td>\n",
       "    </tr>\n",
       "    <tr>\n",
       "      <th>25</th>\n",
       "      <td>d1mm9tcy42</td>\n",
       "      <td>personalize</td>\n",
       "      <td>data</td>\n",
       "      <td>wishlist_content_update</td>\n",
       "      <td>Windows Desktop</td>\n",
       "      <td>50.0</td>\n",
       "    </tr>\n",
       "    <tr>\n",
       "      <th>26</th>\n",
       "      <td>d1mm9tcy42</td>\n",
       "      <td>lookup</td>\n",
       "      <td>NaN</td>\n",
       "      <td>NaN</td>\n",
       "      <td>Windows Desktop</td>\n",
       "      <td>1996.0</td>\n",
       "    </tr>\n",
       "    <tr>\n",
       "      <th>27</th>\n",
       "      <td>d1mm9tcy42</td>\n",
       "      <td>index</td>\n",
       "      <td>view</td>\n",
       "      <td>view_search_results</td>\n",
       "      <td>Windows Desktop</td>\n",
       "      <td>82263.0</td>\n",
       "    </tr>\n",
       "    <tr>\n",
       "      <th>28</th>\n",
       "      <td>d1mm9tcy42</td>\n",
       "      <td>show</td>\n",
       "      <td>NaN</td>\n",
       "      <td>NaN</td>\n",
       "      <td>Windows Desktop</td>\n",
       "      <td>102.0</td>\n",
       "    </tr>\n",
       "    <tr>\n",
       "      <th>29</th>\n",
       "      <td>d1mm9tcy42</td>\n",
       "      <td>personalize</td>\n",
       "      <td>data</td>\n",
       "      <td>wishlist_content_update</td>\n",
       "      <td>Windows Desktop</td>\n",
       "      <td>673.0</td>\n",
       "    </tr>\n",
       "    <tr>\n",
       "      <th>30</th>\n",
       "      <td>d1mm9tcy42</td>\n",
       "      <td>show</td>\n",
       "      <td>view</td>\n",
       "      <td>p3</td>\n",
       "      <td>Windows Desktop</td>\n",
       "      <td>2959.0</td>\n",
       "    </tr>\n",
       "    <tr>\n",
       "      <th>31</th>\n",
       "      <td>d1mm9tcy42</td>\n",
       "      <td>ajax_refresh_subtotal</td>\n",
       "      <td>click</td>\n",
       "      <td>change_trip_characteristics</td>\n",
       "      <td>Windows Desktop</td>\n",
       "      <td>982.0</td>\n",
       "    </tr>\n",
       "    <tr>\n",
       "      <th>32</th>\n",
       "      <td>d1mm9tcy42</td>\n",
       "      <td>show</td>\n",
       "      <td>NaN</td>\n",
       "      <td>NaN</td>\n",
       "      <td>Windows Desktop</td>\n",
       "      <td>39.0</td>\n",
       "    </tr>\n",
       "    <tr>\n",
       "      <th>33</th>\n",
       "      <td>d1mm9tcy42</td>\n",
       "      <td>personalize</td>\n",
       "      <td>data</td>\n",
       "      <td>wishlist_content_update</td>\n",
       "      <td>Windows Desktop</td>\n",
       "      <td>808.0</td>\n",
       "    </tr>\n",
       "    <tr>\n",
       "      <th>34</th>\n",
       "      <td>d1mm9tcy42</td>\n",
       "      <td>show</td>\n",
       "      <td>view</td>\n",
       "      <td>p3</td>\n",
       "      <td>Windows Desktop</td>\n",
       "      <td>6417.0</td>\n",
       "    </tr>\n",
       "    <tr>\n",
       "      <th>35</th>\n",
       "      <td>d1mm9tcy42</td>\n",
       "      <td>ajax_refresh_subtotal</td>\n",
       "      <td>click</td>\n",
       "      <td>change_trip_characteristics</td>\n",
       "      <td>Windows Desktop</td>\n",
       "      <td>1013.0</td>\n",
       "    </tr>\n",
       "    <tr>\n",
       "      <th>36</th>\n",
       "      <td>d1mm9tcy42</td>\n",
       "      <td>show</td>\n",
       "      <td>NaN</td>\n",
       "      <td>NaN</td>\n",
       "      <td>Windows Desktop</td>\n",
       "      <td>170.0</td>\n",
       "    </tr>\n",
       "    <tr>\n",
       "      <th>37</th>\n",
       "      <td>d1mm9tcy42</td>\n",
       "      <td>personalize</td>\n",
       "      <td>data</td>\n",
       "      <td>wishlist_content_update</td>\n",
       "      <td>Windows Desktop</td>\n",
       "      <td>1281.0</td>\n",
       "    </tr>\n",
       "    <tr>\n",
       "      <th>38</th>\n",
       "      <td>d1mm9tcy42</td>\n",
       "      <td>show</td>\n",
       "      <td>view</td>\n",
       "      <td>p3</td>\n",
       "      <td>Windows Desktop</td>\n",
       "      <td>10401.0</td>\n",
       "    </tr>\n",
       "    <tr>\n",
       "      <th>39</th>\n",
       "      <td>d1mm9tcy42</td>\n",
       "      <td>ajax_refresh_subtotal</td>\n",
       "      <td>click</td>\n",
       "      <td>change_trip_characteristics</td>\n",
       "      <td>Windows Desktop</td>\n",
       "      <td>427.0</td>\n",
       "    </tr>\n",
       "    <tr>\n",
       "      <th>40</th>\n",
       "      <td>d1mm9tcy42</td>\n",
       "      <td>show</td>\n",
       "      <td>NaN</td>\n",
       "      <td>NaN</td>\n",
       "      <td>Windows Desktop</td>\n",
       "      <td>40.0</td>\n",
       "    </tr>\n",
       "    <tr>\n",
       "      <th>41</th>\n",
       "      <td>d1mm9tcy42</td>\n",
       "      <td>personalize</td>\n",
       "      <td>data</td>\n",
       "      <td>wishlist_content_update</td>\n",
       "      <td>Windows Desktop</td>\n",
       "      <td>75.0</td>\n",
       "    </tr>\n",
       "    <tr>\n",
       "      <th>42</th>\n",
       "      <td>d1mm9tcy42</td>\n",
       "      <td>header_userpic</td>\n",
       "      <td>data</td>\n",
       "      <td>header_userpic</td>\n",
       "      <td>Windows Desktop</td>\n",
       "      <td>1063.0</td>\n",
       "    </tr>\n",
       "    <tr>\n",
       "      <th>43</th>\n",
       "      <td>d1mm9tcy42</td>\n",
       "      <td>show</td>\n",
       "      <td>view</td>\n",
       "      <td>p3</td>\n",
       "      <td>Windows Desktop</td>\n",
       "      <td>189200.0</td>\n",
       "    </tr>\n",
       "    <tr>\n",
       "      <th>44</th>\n",
       "      <td>d1mm9tcy42</td>\n",
       "      <td>ask_question</td>\n",
       "      <td>submit</td>\n",
       "      <td>contact_host</td>\n",
       "      <td>Windows Desktop</td>\n",
       "      <td>882.0</td>\n",
       "    </tr>\n",
       "    <tr>\n",
       "      <th>45</th>\n",
       "      <td>d1mm9tcy42</td>\n",
       "      <td>NaN</td>\n",
       "      <td>message_post</td>\n",
       "      <td>message_post</td>\n",
       "      <td>Windows Desktop</td>\n",
       "      <td>NaN</td>\n",
       "    </tr>\n",
       "    <tr>\n",
       "      <th>46</th>\n",
       "      <td>d1mm9tcy42</td>\n",
       "      <td>personalize</td>\n",
       "      <td>data</td>\n",
       "      <td>wishlist_content_update</td>\n",
       "      <td>Windows Desktop</td>\n",
       "      <td>12.0</td>\n",
       "    </tr>\n",
       "    <tr>\n",
       "      <th>47</th>\n",
       "      <td>d1mm9tcy42</td>\n",
       "      <td>similar_listings</td>\n",
       "      <td>data</td>\n",
       "      <td>similar_listings</td>\n",
       "      <td>Windows Desktop</td>\n",
       "      <td>403.0</td>\n",
       "    </tr>\n",
       "    <tr>\n",
       "      <th>48</th>\n",
       "      <td>d1mm9tcy42</td>\n",
       "      <td>personalize</td>\n",
       "      <td>data</td>\n",
       "      <td>wishlist_content_update</td>\n",
       "      <td>Windows Desktop</td>\n",
       "      <td>101.0</td>\n",
       "    </tr>\n",
       "    <tr>\n",
       "      <th>49</th>\n",
       "      <td>d1mm9tcy42</td>\n",
       "      <td>show</td>\n",
       "      <td>NaN</td>\n",
       "      <td>NaN</td>\n",
       "      <td>Windows Desktop</td>\n",
       "      <td>1421.0</td>\n",
       "    </tr>\n",
       "  </tbody>\n",
       "</table>\n",
       "</div>"
      ],
      "text/plain": [
       "       user_id                 action   action_type  \\\n",
       "0   d1mm9tcy42                 lookup           NaN   \n",
       "1   d1mm9tcy42         search_results         click   \n",
       "2   d1mm9tcy42                 lookup           NaN   \n",
       "3   d1mm9tcy42         search_results         click   \n",
       "4   d1mm9tcy42                 lookup           NaN   \n",
       "5   d1mm9tcy42         search_results         click   \n",
       "6   d1mm9tcy42                 lookup           NaN   \n",
       "7   d1mm9tcy42            personalize          data   \n",
       "8   d1mm9tcy42                  index          view   \n",
       "9   d1mm9tcy42                 lookup           NaN   \n",
       "10  d1mm9tcy42         search_results         click   \n",
       "11  d1mm9tcy42                 lookup           NaN   \n",
       "12  d1mm9tcy42            personalize          data   \n",
       "13  d1mm9tcy42                  index          view   \n",
       "14  d1mm9tcy42       similar_listings          data   \n",
       "15  d1mm9tcy42  ajax_refresh_subtotal         click   \n",
       "16  d1mm9tcy42       similar_listings          data   \n",
       "17  d1mm9tcy42  ajax_refresh_subtotal         click   \n",
       "18  d1mm9tcy42                   show           NaN   \n",
       "19  d1mm9tcy42            personalize          data   \n",
       "20  d1mm9tcy42                   show          view   \n",
       "21  d1mm9tcy42                 lookup           NaN   \n",
       "22  d1mm9tcy42         search_results         click   \n",
       "23  d1mm9tcy42                 lookup           NaN   \n",
       "24  d1mm9tcy42         search_results         click   \n",
       "25  d1mm9tcy42            personalize          data   \n",
       "26  d1mm9tcy42                 lookup           NaN   \n",
       "27  d1mm9tcy42                  index          view   \n",
       "28  d1mm9tcy42                   show           NaN   \n",
       "29  d1mm9tcy42            personalize          data   \n",
       "30  d1mm9tcy42                   show          view   \n",
       "31  d1mm9tcy42  ajax_refresh_subtotal         click   \n",
       "32  d1mm9tcy42                   show           NaN   \n",
       "33  d1mm9tcy42            personalize          data   \n",
       "34  d1mm9tcy42                   show          view   \n",
       "35  d1mm9tcy42  ajax_refresh_subtotal         click   \n",
       "36  d1mm9tcy42                   show           NaN   \n",
       "37  d1mm9tcy42            personalize          data   \n",
       "38  d1mm9tcy42                   show          view   \n",
       "39  d1mm9tcy42  ajax_refresh_subtotal         click   \n",
       "40  d1mm9tcy42                   show           NaN   \n",
       "41  d1mm9tcy42            personalize          data   \n",
       "42  d1mm9tcy42         header_userpic          data   \n",
       "43  d1mm9tcy42                   show          view   \n",
       "44  d1mm9tcy42           ask_question        submit   \n",
       "45  d1mm9tcy42                    NaN  message_post   \n",
       "46  d1mm9tcy42            personalize          data   \n",
       "47  d1mm9tcy42       similar_listings          data   \n",
       "48  d1mm9tcy42            personalize          data   \n",
       "49  d1mm9tcy42                   show           NaN   \n",
       "\n",
       "                  action_detail      device_type  secs_elapsed  \n",
       "0                           NaN  Windows Desktop         319.0  \n",
       "1           view_search_results  Windows Desktop       67753.0  \n",
       "2                           NaN  Windows Desktop         301.0  \n",
       "3           view_search_results  Windows Desktop       22141.0  \n",
       "4                           NaN  Windows Desktop         435.0  \n",
       "5           view_search_results  Windows Desktop        7703.0  \n",
       "6                           NaN  Windows Desktop         115.0  \n",
       "7       wishlist_content_update  Windows Desktop         831.0  \n",
       "8           view_search_results  Windows Desktop       20842.0  \n",
       "9                           NaN  Windows Desktop         683.0  \n",
       "10          view_search_results  Windows Desktop       59274.0  \n",
       "11                          NaN  Windows Desktop          95.0  \n",
       "12      wishlist_content_update  Windows Desktop        1399.0  \n",
       "13          view_search_results  Windows Desktop       74886.0  \n",
       "14             similar_listings  Windows Desktop         255.0  \n",
       "15  change_trip_characteristics  Windows Desktop        8134.0  \n",
       "16             similar_listings  Windows Desktop         183.0  \n",
       "17  change_trip_characteristics  Windows Desktop      175570.0  \n",
       "18                          NaN  Windows Desktop          86.0  \n",
       "19      wishlist_content_update  Windows Desktop        1535.0  \n",
       "20                           p3  Windows Desktop       83251.0  \n",
       "21                          NaN  Windows Desktop         360.0  \n",
       "22          view_search_results  Windows Desktop        2488.0  \n",
       "23                          NaN  Windows Desktop         456.0  \n",
       "24          view_search_results  Windows Desktop       10053.0  \n",
       "25      wishlist_content_update  Windows Desktop          50.0  \n",
       "26                          NaN  Windows Desktop        1996.0  \n",
       "27          view_search_results  Windows Desktop       82263.0  \n",
       "28                          NaN  Windows Desktop         102.0  \n",
       "29      wishlist_content_update  Windows Desktop         673.0  \n",
       "30                           p3  Windows Desktop        2959.0  \n",
       "31  change_trip_characteristics  Windows Desktop         982.0  \n",
       "32                          NaN  Windows Desktop          39.0  \n",
       "33      wishlist_content_update  Windows Desktop         808.0  \n",
       "34                           p3  Windows Desktop        6417.0  \n",
       "35  change_trip_characteristics  Windows Desktop        1013.0  \n",
       "36                          NaN  Windows Desktop         170.0  \n",
       "37      wishlist_content_update  Windows Desktop        1281.0  \n",
       "38                           p3  Windows Desktop       10401.0  \n",
       "39  change_trip_characteristics  Windows Desktop         427.0  \n",
       "40                          NaN  Windows Desktop          40.0  \n",
       "41      wishlist_content_update  Windows Desktop          75.0  \n",
       "42               header_userpic  Windows Desktop        1063.0  \n",
       "43                           p3  Windows Desktop      189200.0  \n",
       "44                 contact_host  Windows Desktop         882.0  \n",
       "45                 message_post  Windows Desktop           NaN  \n",
       "46      wishlist_content_update  Windows Desktop          12.0  \n",
       "47             similar_listings  Windows Desktop         403.0  \n",
       "48      wishlist_content_update  Windows Desktop         101.0  \n",
       "49                          NaN  Windows Desktop        1421.0  "
      ]
     },
     "execution_count": 11,
     "metadata": {},
     "output_type": "execute_result"
    }
   ],
   "source": [
    "SESSIONS.head(50)"
   ]
  },
  {
   "cell_type": "markdown",
   "id": "1b63d8a9",
   "metadata": {},
   "source": [
    "First remove all null values"
   ]
  },
  {
   "cell_type": "code",
   "execution_count": 12,
   "id": "d618cdae",
   "metadata": {},
   "outputs": [
    {
     "data": {
      "text/plain": [
       "True"
      ]
     },
     "execution_count": 12,
     "metadata": {},
     "output_type": "execute_result"
    }
   ],
   "source": [
    "SESSIONS['user_id'].isnull().values.any()"
   ]
  },
  {
   "cell_type": "code",
   "execution_count": 13,
   "id": "09e44a48",
   "metadata": {},
   "outputs": [
    {
     "data": {
      "text/plain": [
       "False"
      ]
     },
     "execution_count": 13,
     "metadata": {},
     "output_type": "execute_result"
    }
   ],
   "source": [
    "SESSIONS = SESSIONS[SESSIONS['user_id'].isnull() == False]\n",
    "SESSIONS['user_id'].isnull().values.any()"
   ]
  },
  {
   "cell_type": "markdown",
   "id": "5c51bcd7",
   "metadata": {},
   "source": [
    "Fill missing values"
   ]
  },
  {
   "cell_type": "code",
   "execution_count": 14,
   "id": "a524279c",
   "metadata": {},
   "outputs": [],
   "source": [
    "SESSIONS['action'].fillna(SESSIONS['action'].mode()[0], inplace=True)\n",
    "SESSIONS['action_type'].fillna(SESSIONS['action_type'].mode()[0], inplace=True)\n",
    "SESSIONS['action_detail'].fillna(SESSIONS['action_detail'].mode()[0], inplace=True)\n",
    "SESSIONS['device_type'].fillna(SESSIONS['device_type'].mode()[0], inplace=True)\n",
    "SESSIONS['secs_elapsed'].fillna(0, inplace=True)"
   ]
  },
  {
   "cell_type": "markdown",
   "id": "6cee1656",
   "metadata": {},
   "source": [
    "One user can have multiple events, merge all in one row so we can perform inner join later"
   ]
  },
  {
   "cell_type": "code",
   "execution_count": 15,
   "id": "1a9743b2",
   "metadata": {},
   "outputs": [],
   "source": [
    "# SESSIONS['action']   = [\" \"+i+\" \" for i in SESSIONS['action']]\n",
    "# SESSIONS['action_type']   = [\" \"+i+\" \" for i in SESSIONS['action_type']]\n",
    "# SESSIONS['action_detail']   = [\" \"+i+\" \" for i in SESSIONS['action_detail']]\n",
    "#\n",
    "#\n",
    "# USER_ID=list(set(SESSIONS['user_id'].values))\n",
    "# ACTION = SESSIONS.groupby('user_id', sort = False)[['action']].sum()\n",
    "# ACTION_TYPE = SESSIONS.groupby('user_id', sort = False)[['action_type']].sum()\n",
    "# ACTION_DETAIL = SESSIONS.groupby('user_id', sort = False)[['action_detail']].sum()\n",
    "# SEC_ELAPSED= SESSIONS.groupby('user_id', sort = False)[['secs_elapsed']].mean()\n",
    "#\n",
    "# MERGED_SESSIONS=pd.DataFrame(USER_ID,columns=['user_id'])\n",
    "# MERGED_SESSIONS['action']=ACTION['action'].values\n",
    "# MERGED_SESSIONS['action_type']=ACTION_TYPE['action_type'].values\n",
    "# MERGED_SESSIONS['action_detail']=ACTION_DETAIL['action_detail'].values\n",
    "# MERGED_SESSIONS['secs_elapsed']=SESSIONS['secs_elapsed'].values\n",
    "# MERGED_SESSIONS.head()"
   ]
  },
  {
   "cell_type": "markdown",
   "id": "3b0d46b4",
   "metadata": {},
   "source": [
    "### users.csv cleaning and preparation"
   ]
  },
  {
   "cell_type": "markdown",
   "id": "8c9a6acf",
   "metadata": {},
   "source": []
  },
  {
   "cell_type": "code",
   "execution_count": 16,
   "id": "e45fbb36",
   "metadata": {},
   "outputs": [
    {
     "data": {
      "text/html": [
       "<div>\n",
       "<style scoped>\n",
       "    .dataframe tbody tr th:only-of-type {\n",
       "        vertical-align: middle;\n",
       "    }\n",
       "\n",
       "    .dataframe tbody tr th {\n",
       "        vertical-align: top;\n",
       "    }\n",
       "\n",
       "    .dataframe thead th {\n",
       "        text-align: right;\n",
       "    }\n",
       "</style>\n",
       "<table border=\"1\" class=\"dataframe\">\n",
       "  <thead>\n",
       "    <tr style=\"text-align: right;\">\n",
       "      <th></th>\n",
       "      <th>id</th>\n",
       "      <th>date_account_created</th>\n",
       "      <th>timestamp_first_active</th>\n",
       "      <th>date_first_booking</th>\n",
       "      <th>gender</th>\n",
       "      <th>age</th>\n",
       "      <th>signup_method</th>\n",
       "      <th>signup_flow</th>\n",
       "      <th>language</th>\n",
       "      <th>affiliate_channel</th>\n",
       "      <th>affiliate_provider</th>\n",
       "      <th>first_affiliate_tracked</th>\n",
       "      <th>signup_app</th>\n",
       "      <th>first_device_type</th>\n",
       "      <th>first_browser</th>\n",
       "      <th>country_destination</th>\n",
       "    </tr>\n",
       "  </thead>\n",
       "  <tbody>\n",
       "    <tr>\n",
       "      <th>0</th>\n",
       "      <td>gxn3p5htnn</td>\n",
       "      <td>2010-06-28</td>\n",
       "      <td>20090319043255</td>\n",
       "      <td>NaN</td>\n",
       "      <td>-unknown-</td>\n",
       "      <td>NaN</td>\n",
       "      <td>facebook</td>\n",
       "      <td>0</td>\n",
       "      <td>en</td>\n",
       "      <td>direct</td>\n",
       "      <td>direct</td>\n",
       "      <td>untracked</td>\n",
       "      <td>Web</td>\n",
       "      <td>Mac Desktop</td>\n",
       "      <td>Chrome</td>\n",
       "      <td>NDF</td>\n",
       "    </tr>\n",
       "    <tr>\n",
       "      <th>1</th>\n",
       "      <td>820tgsjxq7</td>\n",
       "      <td>2011-05-25</td>\n",
       "      <td>20090523174809</td>\n",
       "      <td>NaN</td>\n",
       "      <td>MALE</td>\n",
       "      <td>38.0</td>\n",
       "      <td>facebook</td>\n",
       "      <td>0</td>\n",
       "      <td>en</td>\n",
       "      <td>seo</td>\n",
       "      <td>google</td>\n",
       "      <td>untracked</td>\n",
       "      <td>Web</td>\n",
       "      <td>Mac Desktop</td>\n",
       "      <td>Chrome</td>\n",
       "      <td>NDF</td>\n",
       "    </tr>\n",
       "    <tr>\n",
       "      <th>2</th>\n",
       "      <td>4ft3gnwmtx</td>\n",
       "      <td>2010-09-28</td>\n",
       "      <td>20090609231247</td>\n",
       "      <td>2010-08-02</td>\n",
       "      <td>FEMALE</td>\n",
       "      <td>56.0</td>\n",
       "      <td>basic</td>\n",
       "      <td>3</td>\n",
       "      <td>en</td>\n",
       "      <td>direct</td>\n",
       "      <td>direct</td>\n",
       "      <td>untracked</td>\n",
       "      <td>Web</td>\n",
       "      <td>Windows Desktop</td>\n",
       "      <td>IE</td>\n",
       "      <td>US</td>\n",
       "    </tr>\n",
       "    <tr>\n",
       "      <th>3</th>\n",
       "      <td>bjjt8pjhuk</td>\n",
       "      <td>2011-12-05</td>\n",
       "      <td>20091031060129</td>\n",
       "      <td>2012-09-08</td>\n",
       "      <td>FEMALE</td>\n",
       "      <td>42.0</td>\n",
       "      <td>facebook</td>\n",
       "      <td>0</td>\n",
       "      <td>en</td>\n",
       "      <td>direct</td>\n",
       "      <td>direct</td>\n",
       "      <td>untracked</td>\n",
       "      <td>Web</td>\n",
       "      <td>Mac Desktop</td>\n",
       "      <td>Firefox</td>\n",
       "      <td>other</td>\n",
       "    </tr>\n",
       "    <tr>\n",
       "      <th>4</th>\n",
       "      <td>87mebub9p4</td>\n",
       "      <td>2010-09-14</td>\n",
       "      <td>20091208061105</td>\n",
       "      <td>2010-02-18</td>\n",
       "      <td>-unknown-</td>\n",
       "      <td>41.0</td>\n",
       "      <td>basic</td>\n",
       "      <td>0</td>\n",
       "      <td>en</td>\n",
       "      <td>direct</td>\n",
       "      <td>direct</td>\n",
       "      <td>untracked</td>\n",
       "      <td>Web</td>\n",
       "      <td>Mac Desktop</td>\n",
       "      <td>Chrome</td>\n",
       "      <td>US</td>\n",
       "    </tr>\n",
       "  </tbody>\n",
       "</table>\n",
       "</div>"
      ],
      "text/plain": [
       "           id date_account_created  timestamp_first_active date_first_booking  \\\n",
       "0  gxn3p5htnn           2010-06-28          20090319043255                NaN   \n",
       "1  820tgsjxq7           2011-05-25          20090523174809                NaN   \n",
       "2  4ft3gnwmtx           2010-09-28          20090609231247         2010-08-02   \n",
       "3  bjjt8pjhuk           2011-12-05          20091031060129         2012-09-08   \n",
       "4  87mebub9p4           2010-09-14          20091208061105         2010-02-18   \n",
       "\n",
       "      gender   age signup_method  signup_flow language affiliate_channel  \\\n",
       "0  -unknown-   NaN      facebook            0       en            direct   \n",
       "1       MALE  38.0      facebook            0       en               seo   \n",
       "2     FEMALE  56.0         basic            3       en            direct   \n",
       "3     FEMALE  42.0      facebook            0       en            direct   \n",
       "4  -unknown-  41.0         basic            0       en            direct   \n",
       "\n",
       "  affiliate_provider first_affiliate_tracked signup_app first_device_type  \\\n",
       "0             direct               untracked        Web       Mac Desktop   \n",
       "1             google               untracked        Web       Mac Desktop   \n",
       "2             direct               untracked        Web   Windows Desktop   \n",
       "3             direct               untracked        Web       Mac Desktop   \n",
       "4             direct               untracked        Web       Mac Desktop   \n",
       "\n",
       "  first_browser country_destination  \n",
       "0        Chrome                 NDF  \n",
       "1        Chrome                 NDF  \n",
       "2            IE                  US  \n",
       "3       Firefox               other  \n",
       "4        Chrome                  US  "
      ]
     },
     "execution_count": 16,
     "metadata": {},
     "output_type": "execute_result"
    }
   ],
   "source": [
    "USERS.head()"
   ]
  },
  {
   "cell_type": "code",
   "execution_count": 17,
   "id": "f29db706",
   "metadata": {},
   "outputs": [
    {
     "data": {
      "text/html": [
       "<div>\n",
       "<style scoped>\n",
       "    .dataframe tbody tr th:only-of-type {\n",
       "        vertical-align: middle;\n",
       "    }\n",
       "\n",
       "    .dataframe tbody tr th {\n",
       "        vertical-align: top;\n",
       "    }\n",
       "\n",
       "    .dataframe thead th {\n",
       "        text-align: right;\n",
       "    }\n",
       "</style>\n",
       "<table border=\"1\" class=\"dataframe\">\n",
       "  <thead>\n",
       "    <tr style=\"text-align: right;\">\n",
       "      <th></th>\n",
       "      <th>id</th>\n",
       "      <th>date_account_created</th>\n",
       "      <th>timestamp_first_active</th>\n",
       "      <th>date_first_booking</th>\n",
       "      <th>gender</th>\n",
       "      <th>age</th>\n",
       "      <th>signup_method</th>\n",
       "      <th>signup_flow</th>\n",
       "      <th>language</th>\n",
       "      <th>affiliate_channel</th>\n",
       "      <th>affiliate_provider</th>\n",
       "      <th>first_affiliate_tracked</th>\n",
       "      <th>signup_app</th>\n",
       "      <th>first_device_type</th>\n",
       "      <th>first_browser</th>\n",
       "    </tr>\n",
       "  </thead>\n",
       "  <tbody>\n",
       "    <tr>\n",
       "      <th>0</th>\n",
       "      <td>5uwns89zht</td>\n",
       "      <td>2014-07-01</td>\n",
       "      <td>20140701000006</td>\n",
       "      <td>NaN</td>\n",
       "      <td>FEMALE</td>\n",
       "      <td>35.0</td>\n",
       "      <td>facebook</td>\n",
       "      <td>0</td>\n",
       "      <td>en</td>\n",
       "      <td>direct</td>\n",
       "      <td>direct</td>\n",
       "      <td>untracked</td>\n",
       "      <td>Moweb</td>\n",
       "      <td>iPhone</td>\n",
       "      <td>Mobile Safari</td>\n",
       "    </tr>\n",
       "    <tr>\n",
       "      <th>1</th>\n",
       "      <td>jtl0dijy2j</td>\n",
       "      <td>2014-07-01</td>\n",
       "      <td>20140701000051</td>\n",
       "      <td>NaN</td>\n",
       "      <td>-unknown-</td>\n",
       "      <td>NaN</td>\n",
       "      <td>basic</td>\n",
       "      <td>0</td>\n",
       "      <td>en</td>\n",
       "      <td>direct</td>\n",
       "      <td>direct</td>\n",
       "      <td>untracked</td>\n",
       "      <td>Moweb</td>\n",
       "      <td>iPhone</td>\n",
       "      <td>Mobile Safari</td>\n",
       "    </tr>\n",
       "    <tr>\n",
       "      <th>2</th>\n",
       "      <td>xx0ulgorjt</td>\n",
       "      <td>2014-07-01</td>\n",
       "      <td>20140701000148</td>\n",
       "      <td>NaN</td>\n",
       "      <td>-unknown-</td>\n",
       "      <td>NaN</td>\n",
       "      <td>basic</td>\n",
       "      <td>0</td>\n",
       "      <td>en</td>\n",
       "      <td>direct</td>\n",
       "      <td>direct</td>\n",
       "      <td>linked</td>\n",
       "      <td>Web</td>\n",
       "      <td>Windows Desktop</td>\n",
       "      <td>Chrome</td>\n",
       "    </tr>\n",
       "    <tr>\n",
       "      <th>3</th>\n",
       "      <td>6c6puo6ix0</td>\n",
       "      <td>2014-07-01</td>\n",
       "      <td>20140701000215</td>\n",
       "      <td>NaN</td>\n",
       "      <td>-unknown-</td>\n",
       "      <td>NaN</td>\n",
       "      <td>basic</td>\n",
       "      <td>0</td>\n",
       "      <td>en</td>\n",
       "      <td>direct</td>\n",
       "      <td>direct</td>\n",
       "      <td>linked</td>\n",
       "      <td>Web</td>\n",
       "      <td>Windows Desktop</td>\n",
       "      <td>IE</td>\n",
       "    </tr>\n",
       "    <tr>\n",
       "      <th>4</th>\n",
       "      <td>czqhjk3yfe</td>\n",
       "      <td>2014-07-01</td>\n",
       "      <td>20140701000305</td>\n",
       "      <td>NaN</td>\n",
       "      <td>-unknown-</td>\n",
       "      <td>NaN</td>\n",
       "      <td>basic</td>\n",
       "      <td>0</td>\n",
       "      <td>en</td>\n",
       "      <td>direct</td>\n",
       "      <td>direct</td>\n",
       "      <td>untracked</td>\n",
       "      <td>Web</td>\n",
       "      <td>Mac Desktop</td>\n",
       "      <td>Safari</td>\n",
       "    </tr>\n",
       "  </tbody>\n",
       "</table>\n",
       "</div>"
      ],
      "text/plain": [
       "           id date_account_created  timestamp_first_active  \\\n",
       "0  5uwns89zht           2014-07-01          20140701000006   \n",
       "1  jtl0dijy2j           2014-07-01          20140701000051   \n",
       "2  xx0ulgorjt           2014-07-01          20140701000148   \n",
       "3  6c6puo6ix0           2014-07-01          20140701000215   \n",
       "4  czqhjk3yfe           2014-07-01          20140701000305   \n",
       "\n",
       "   date_first_booking     gender   age signup_method  signup_flow language  \\\n",
       "0                 NaN     FEMALE  35.0      facebook            0       en   \n",
       "1                 NaN  -unknown-   NaN         basic            0       en   \n",
       "2                 NaN  -unknown-   NaN         basic            0       en   \n",
       "3                 NaN  -unknown-   NaN         basic            0       en   \n",
       "4                 NaN  -unknown-   NaN         basic            0       en   \n",
       "\n",
       "  affiliate_channel affiliate_provider first_affiliate_tracked signup_app  \\\n",
       "0            direct             direct               untracked      Moweb   \n",
       "1            direct             direct               untracked      Moweb   \n",
       "2            direct             direct                  linked        Web   \n",
       "3            direct             direct                  linked        Web   \n",
       "4            direct             direct               untracked        Web   \n",
       "\n",
       "  first_device_type  first_browser  \n",
       "0            iPhone  Mobile Safari  \n",
       "1            iPhone  Mobile Safari  \n",
       "2   Windows Desktop         Chrome  \n",
       "3   Windows Desktop             IE  \n",
       "4       Mac Desktop         Safari  "
      ]
     },
     "execution_count": 17,
     "metadata": {},
     "output_type": "execute_result"
    }
   ],
   "source": [
    "TEST_USERS.head()"
   ]
  },
  {
   "cell_type": "markdown",
   "id": "125d3718",
   "metadata": {},
   "source": [
    "Merge users and test_users"
   ]
  },
  {
   "cell_type": "code",
   "execution_count": 18,
   "id": "01d5c678",
   "metadata": {},
   "outputs": [
    {
     "data": {
      "text/plain": [
       "id                         275547\n",
       "date_account_created       275547\n",
       "timestamp_first_active     275547\n",
       "date_first_booking          88908\n",
       "gender                     275547\n",
       "age                        158681\n",
       "signup_method              275547\n",
       "signup_flow                275547\n",
       "language                   275547\n",
       "affiliate_channel          275547\n",
       "affiliate_provider         275547\n",
       "first_affiliate_tracked    269462\n",
       "signup_app                 275547\n",
       "first_device_type          275547\n",
       "first_browser              275547\n",
       "country_destination        213451\n",
       "dtype: int64"
      ]
     },
     "execution_count": 18,
     "metadata": {},
     "output_type": "execute_result"
    }
   ],
   "source": [
    "USERS = pd.concat((USERS, TEST_USERS),axis=0, ignore_index=True)\n",
    "USERS.count()"
   ]
  },
  {
   "cell_type": "markdown",
   "id": "0b48ac2e",
   "metadata": {},
   "source": [
    "Print all possible values of gender"
   ]
  },
  {
   "cell_type": "code",
   "execution_count": 19,
   "id": "7026442d",
   "metadata": {},
   "outputs": [
    {
     "name": "stdout",
     "output_type": "stream",
     "text": [
      "['-unknown-' 'MALE' 'FEMALE' 'OTHER']\n"
     ]
    }
   ],
   "source": [
    "print(USERS[\"gender\"].unique())"
   ]
  },
  {
   "cell_type": "markdown",
   "id": "fadc67c4",
   "metadata": {},
   "source": [
    "Replace gender values in following manner\n",
    "- null and unknown values with -1\n",
    "- OTHER with 0\n",
    "- MALE with 1\n",
    "- FEMALE with 2"
   ]
  },
  {
   "cell_type": "code",
   "execution_count": 20,
   "id": "eb822a81",
   "metadata": {},
   "outputs": [],
   "source": [
    "USERS.loc[:, \"gender\"] = USERS[\"gender\"].replace(\"-unknown-\", -1)\n",
    "USERS.loc[:, \"gender\"] = USERS[\"gender\"].replace(\"OTHER\", 0)\n",
    "USERS.loc[:, \"gender\"] = USERS[\"gender\"].replace(\"MALE\", 1)\n",
    "USERS.loc[:, \"gender\"] = USERS[\"gender\"].replace(\"FEMALE\", 2)\n",
    "\n",
    "TRAIN_SET.loc[:, \"gender\"] = TRAIN_SET[\"gender\"].replace(\"-unknown-\", -1)\n",
    "TRAIN_SET.loc[:, \"gender\"] = TRAIN_SET[\"gender\"].replace(\"OTHER\", 0)\n",
    "TRAIN_SET.loc[:, \"gender\"] = TRAIN_SET[\"gender\"].replace(\"MALE\", 1)\n",
    "TRAIN_SET.loc[:, \"gender\"] = TRAIN_SET[\"gender\"].replace(\"FEMALE\", 2)\n",
    "\n",
    "TEST_SET.loc[:, \"gender\"] = TEST_SET[\"gender\"].replace(\"-unknown-\", -1)\n",
    "TEST_SET.loc[:, \"gender\"] = TEST_SET[\"gender\"].replace(\"OTHER\", 0)\n",
    "TEST_SET.loc[:, \"gender\"] = TEST_SET[\"gender\"].replace(\"MALE\", 1)\n",
    "TEST_SET.loc[:, \"gender\"] = TEST_SET[\"gender\"].replace(\"FEMALE\", 2)"
   ]
  },
  {
   "cell_type": "markdown",
   "id": "8e811696",
   "metadata": {},
   "source": [
    "Print all unique values of browser"
   ]
  },
  {
   "cell_type": "code",
   "execution_count": 21,
   "id": "6d7576ba",
   "metadata": {},
   "outputs": [
    {
     "name": "stdout",
     "output_type": "stream",
     "text": [
      "['Chrome' 'IE' 'Firefox' 'Safari' '-unknown-' 'Mobile Safari'\n",
      " 'Chrome Mobile' 'RockMelt' 'Chromium' 'Android Browser' 'AOL Explorer'\n",
      " 'Palm Pre web browser' 'Mobile Firefox' 'Opera' 'TenFourFox' 'IE Mobile'\n",
      " 'Apple Mail' 'Silk' 'Camino' 'Arora' 'BlackBerry Browser' 'SeaMonkey'\n",
      " 'Iron' 'Sogou Explorer' 'IceWeasel' 'Opera Mini' 'SiteKiosk' 'Maxthon'\n",
      " 'Kindle Browser' 'CoolNovo' 'Conkeror' 'wOSBrowser' 'Google Earth'\n",
      " 'Crazy Browser' 'Mozilla' 'OmniWeb' 'PS Vita browser' 'NetNewsWire'\n",
      " 'CometBird' 'Comodo Dragon' 'Flock' 'Pale Moon' 'Avant Browser'\n",
      " 'Opera Mobile' 'Yandex.Browser' 'TheWorld Browser' 'SlimBrowser' 'Epic'\n",
      " 'Stainless' 'Googlebot' 'Outlook 2007' 'IceDragon' 'IBrowse'\n",
      " 'Nintendo Browser' 'UC Browser']\n"
     ]
    }
   ],
   "source": [
    "print(USERS[\"first_browser\"].unique())"
   ]
  },
  {
   "cell_type": "markdown",
   "id": "7ff2db9a",
   "metadata": {},
   "source": [
    "Replace -unknown- with nan for easier manipulation later"
   ]
  },
  {
   "cell_type": "code",
   "execution_count": 22,
   "id": "16420b11",
   "metadata": {},
   "outputs": [],
   "source": [
    "USERS.loc[:, \"first_browser\"].replace(\"-unknown-\", np.nan, inplace=True)"
   ]
  },
  {
   "cell_type": "code",
   "execution_count": 23,
   "id": "da4fd8c1",
   "metadata": {},
   "outputs": [
    {
     "data": {
      "text/plain": [
       "count    158681.000000\n",
       "mean         47.145310\n",
       "std         142.629468\n",
       "min           1.000000\n",
       "25%          28.000000\n",
       "50%          33.000000\n",
       "75%          42.000000\n",
       "max        2014.000000\n",
       "Name: age, dtype: float64"
      ]
     },
     "execution_count": 23,
     "metadata": {},
     "output_type": "execute_result"
    }
   ],
   "source": [
    "USERS['age'].describe()"
   ]
  },
  {
   "cell_type": "code",
   "execution_count": 24,
   "id": "c4079fba",
   "metadata": {},
   "outputs": [
    {
     "name": "stdout",
     "output_type": "stream",
     "text": [
      "830\n"
     ]
    }
   ],
   "source": [
    "print(sum(USERS['age'] > 120))"
   ]
  },
  {
   "cell_type": "code",
   "execution_count": 25,
   "id": "d48ebd06",
   "metadata": {},
   "outputs": [
    {
     "data": {
      "text/plain": [
       "count     830.000000\n",
       "mean     2002.620482\n",
       "std        94.201344\n",
       "min       132.000000\n",
       "25%      2014.000000\n",
       "50%      2014.000000\n",
       "75%      2014.000000\n",
       "max      2014.000000\n",
       "Name: age, dtype: float64"
      ]
     },
     "execution_count": 25,
     "metadata": {},
     "output_type": "execute_result"
    }
   ],
   "source": [
    "USERS[USERS['age'] > 120]['age'].describe()"
   ]
  },
  {
   "cell_type": "markdown",
   "id": "ed284d3b",
   "metadata": {},
   "source": [
    "We can some strange data, that we have users way older than 120 years, there is values of 2014.\n",
    "This can be due to wrong input field mapping.\n",
    "This data is clearly polluted, so we will remove this data and make it like we don't know age of this people"
   ]
  },
  {
   "cell_type": "code",
   "execution_count": 26,
   "id": "bb648f3c",
   "metadata": {},
   "outputs": [],
   "source": [
    "USERS.loc[USERS['age'] >= 120, 'age'] = np.nan"
   ]
  },
  {
   "cell_type": "code",
   "execution_count": 27,
   "id": "513f4b72",
   "metadata": {},
   "outputs": [
    {
     "data": {
      "text/plain": [
       "count    157851.000000\n",
       "mean         36.863181\n",
       "std          13.828590\n",
       "min           1.000000\n",
       "25%          28.000000\n",
       "50%          33.000000\n",
       "75%          42.000000\n",
       "max         115.000000\n",
       "Name: age, dtype: float64"
      ]
     },
     "execution_count": 27,
     "metadata": {},
     "output_type": "execute_result"
    }
   ],
   "source": [
    "USERS['age'].describe()"
   ]
  },
  {
   "cell_type": "markdown",
   "id": "3ccadf65",
   "metadata": {},
   "source": [
    "Now we can see that oldest person is 114 old which is much more realistic"
   ]
  },
  {
   "cell_type": "code",
   "execution_count": 28,
   "id": "eed3cc72",
   "metadata": {},
   "outputs": [
    {
     "data": {
      "text/plain": [
       "array(['en', 'fr', 'de', 'es', 'it', 'pt', 'zh', 'ko', 'ja', 'ru', 'pl',\n",
       "       'el', 'sv', 'nl', 'hu', 'da', 'id', 'fi', 'no', 'tr', 'th', 'cs',\n",
       "       'hr', 'ca', 'is', '-unknown-'], dtype=object)"
      ]
     },
     "execution_count": 28,
     "metadata": {},
     "output_type": "execute_result"
    }
   ],
   "source": [
    "USERS['language'].unique()"
   ]
  },
  {
   "cell_type": "markdown",
   "id": "fa582077",
   "metadata": {},
   "source": [
    "Replace -unknown- with NaN"
   ]
  },
  {
   "cell_type": "code",
   "execution_count": 29,
   "id": "c6016cbc",
   "metadata": {},
   "outputs": [],
   "source": [
    "USERS.loc[USERS['language'] == '-unknown-', 'language'] = np.nan"
   ]
  },
  {
   "cell_type": "code",
   "execution_count": 30,
   "id": "e2944cff",
   "metadata": {},
   "outputs": [
    {
     "data": {
      "text/plain": [
       "array(['facebook', 'basic', 'google', 'weibo'], dtype=object)"
      ]
     },
     "execution_count": 30,
     "metadata": {},
     "output_type": "execute_result"
    }
   ],
   "source": [
    "USERS['signup_method'].unique()"
   ]
  },
  {
   "cell_type": "markdown",
   "id": "3f48f499",
   "metadata": {},
   "source": []
  },
  {
   "cell_type": "code",
   "execution_count": 31,
   "id": "b6bffd43",
   "metadata": {},
   "outputs": [],
   "source": [
    "USERS['created_month'] = pd.to_datetime(USERS['date_account_created']).dt.month\n",
    "USERS['created_year'] = pd.to_datetime(USERS['date_account_created']).dt.year\n",
    "USERS['created_day'] = pd.to_datetime(USERS['date_account_created']).dt.day\n",
    "\n",
    "USERS['booking_month'] = pd.to_datetime(USERS['date_first_booking']).dt.month\n",
    "USERS['booking_year'] = pd.to_datetime(USERS['date_first_booking']).dt.year\n",
    "USERS['booking_day'] = pd.to_datetime(USERS['date_first_booking']).dt.day\n",
    "\n",
    "TRAIN_SET['created_month'] = pd.to_datetime(TRAIN_SET['date_account_created']).dt.month\n",
    "TRAIN_SET['created_year'] = pd.to_datetime(TRAIN_SET['date_account_created']).dt.year\n",
    "TRAIN_SET['created_day'] = pd.to_datetime(TRAIN_SET['date_account_created']).dt.day\n",
    "\n",
    "TRAIN_SET['booking_month'] = pd.to_datetime(TRAIN_SET['date_first_booking']).dt.month\n",
    "TRAIN_SET['booking_year'] = pd.to_datetime(TRAIN_SET['date_first_booking']).dt.year\n",
    "TRAIN_SET['booking_day'] = pd.to_datetime(TRAIN_SET['date_first_booking']).dt.day\n",
    "\n",
    "TRAIN_SET.drop(labels=['date_account_created',\n",
    "                       'date_first_booking',\n",
    "                       'timestamp_first_active',\n",
    "                       'first_affiliate_tracked'\n",
    "                       ], axis=1, inplace=True)\n",
    "\n",
    "TEST_SET['created_month'] = pd.to_datetime(TEST_SET['date_account_created']).dt.month\n",
    "TEST_SET['created_year'] = pd.to_datetime(TEST_SET['date_account_created']).dt.year\n",
    "TEST_SET['created_day'] = pd.to_datetime(TEST_SET['date_account_created']).dt.day\n",
    "\n",
    "TEST_SET['booking_month'] = pd.to_datetime(TEST_SET['date_first_booking']).dt.month\n",
    "TEST_SET['booking_year'] = pd.to_datetime(TEST_SET['date_first_booking']).dt.year\n",
    "TEST_SET['booking_day'] = pd.to_datetime(TEST_SET['date_first_booking']).dt.day\n",
    "\n",
    "TEST_SET.drop(labels=['date_account_created',\n",
    "                       'date_first_booking',\n",
    "                       'timestamp_first_active',\n",
    "                       'first_affiliate_tracked'\n",
    "                       ], axis=1, inplace=True)"
   ]
  },
  {
   "cell_type": "markdown",
   "id": "b70d3c24",
   "metadata": {},
   "source": [
    "## Data Exploration\n",
    "\n",
    "We will explore what data can tell us about destinations that are being booked"
   ]
  },
  {
   "cell_type": "code",
   "execution_count": 32,
   "id": "d8386de8",
   "metadata": {},
   "outputs": [
    {
     "data": {
      "image/png": "[encoded data removed]",
      "text/plain": [
       "<Figure size 640x480 with 1 Axes>"
      ]
     },
     "metadata": {},
     "output_type": "display_data"
    }
   ],
   "source": [
    "(USERS['country_destination'].value_counts() / USERS.shape[0] * 100).plot(kind='bar')\n",
    "plt.xlabel('Country')\n",
    "plt.ylabel('%')\n",
    "plt.show()"
   ]
  },
  {
   "cell_type": "markdown",
   "id": "f674539c",
   "metadata": {},
   "source": [
    "We can see here that almost half of our training set did not book yet\n",
    "And that most of the bookings that did happen are within country of residence (Users in dataset are from US)\n",
    "\n",
    "We will create second dataset USERS_THAT_BOOKED, where we will exclude users without booking and also users that booked within US\n",
    "Since we want to make better classification of travel bookings"
   ]
  },
  {
   "cell_type": "code",
   "execution_count": 33,
   "id": "53197c0f",
   "metadata": {},
   "outputs": [],
   "source": [
    "UDB = USERS[USERS['country_destination'] != 'NDF']\n",
    "USERS_THAT_BOOKED = UDB[UDB['country_destination'] != 'US']"
   ]
  },
  {
   "cell_type": "code",
   "execution_count": 34,
   "id": "7693c88e",
   "metadata": {},
   "outputs": [
    {
     "data": {
      "image/png": "[encoded data removed]",
      "text/plain": [
       "<Figure size 640x480 with 1 Axes>"
      ]
     },
     "metadata": {},
     "output_type": "display_data"
    }
   ],
   "source": [
    "(USERS['language'].value_counts() / USERS.shape[0] * 100).plot(kind='bar')\n",
    "plt.xlabel('Language')\n",
    "plt.ylabel('%')\n",
    "plt.show()"
   ]
  },
  {
   "cell_type": "markdown",
   "id": "ee2ada17",
   "metadata": {},
   "source": [
    "Here we can see that most of the users are english speaking which makes sense given that dataset is for users from US"
   ]
  },
  {
   "cell_type": "code",
   "execution_count": 35,
   "id": "68fe84a6",
   "metadata": {},
   "outputs": [
    {
     "data": {
      "image/png": "[encoded data removed]",
      "text/plain": [
       "<Figure size 640x480 with 1 Axes>"
      ]
     },
     "metadata": {},
     "output_type": "display_data"
    }
   ],
   "source": [
    "(USERS['gender'].value_counts() / USERS.shape[0] * 100).plot(kind='bar')\n",
    "\n",
    "plt.xlabel('Gender')\n",
    "plt.ylabel('%')\n",
    "plt.show()"
   ]
  },
  {
   "cell_type": "markdown",
   "id": "902809b2",
   "metadata": {},
   "source": [
    "If we look at this distribution with values replaced before\n",
    "- null and unknown values with -1\n",
    "- OTHER with 0\n",
    "- MALE with 1\n",
    "- FEMALE with 2\n",
    "\n",
    "We can see that almost half of the gender data is available\n",
    "And also we see that there is just a small difference between male and female"
   ]
  },
  {
   "cell_type": "code",
   "execution_count": 36,
   "id": "07291ff6",
   "metadata": {},
   "outputs": [
    {
     "data": {
      "image/png": "[encoded data removed]",
      "text/plain": [
       "<Figure size 640x480 with 1 Axes>"
      ]
     },
     "metadata": {},
     "output_type": "display_data"
    }
   ],
   "source": [
    "fig, ax = plt.subplots()\n",
    "width = 0.35\n",
    "x = np.arange(len(USERS['first_device_type'].unique()))\n",
    "\n",
    "(USERS_THAT_BOOKED['first_device_type'].value_counts() / USERS_THAT_BOOKED.shape[0] * 100).plot(\n",
    "    kind='bar',\n",
    "    ax=ax,\n",
    "    position=0,\n",
    "    width=0.25,\n",
    "    label='Booked'\n",
    ")\n",
    "\n",
    "(USERS['first_device_type'].value_counts() / USERS.shape[0] * 100).plot(\n",
    "    kind='bar',\n",
    "    ax=ax,\n",
    "    color='red',\n",
    "    position=1.2,\n",
    "    width=0.25,\n",
    "    label='All'\n",
    ")\n",
    "\n",
    "ax.legend()\n",
    "fig.tight_layout()\n",
    "plt.show()"
   ]
  },
  {
   "cell_type": "markdown",
   "id": "e25771c1",
   "metadata": {},
   "source": [
    "Here we can see that majority of users are using Apple products with AirBnb\n",
    "We can also see that people with Mac desktops are booking more frequently"
   ]
  },
  {
   "cell_type": "code",
   "execution_count": 37,
   "id": "f1dd44d0",
   "metadata": {},
   "outputs": [
    {
     "data": {
      "image/png": "[encoded data removed]",
      "text/plain": [
       "<Figure size 500x500 with 1 Axes>"
      ]
     },
     "metadata": {},
     "output_type": "display_data"
    }
   ],
   "source": [
    "seaborn.displot(USERS['age'].dropna())\n",
    "plt.xlabel('Age')\n",
    "plt.show()"
   ]
  },
  {
   "cell_type": "code",
   "execution_count": 38,
   "id": "a45d222d",
   "metadata": {},
   "outputs": [
    {
     "data": {
      "image/png": "[encoded data removed]",
      "text/plain": [
       "<Figure size 640x480 with 1 Axes>"
      ]
     },
     "metadata": {},
     "output_type": "display_data"
    }
   ],
   "source": [
    "seaborn.boxenplot(y='age', x='country_destination', data=USERS_THAT_BOOKED)\n",
    "plt.xlabel('Destination country')\n",
    "plt.ylabel('Age')\n",
    "plt.show()"
   ]
  },
  {
   "cell_type": "markdown",
   "id": "04d0d65c",
   "metadata": {},
   "source": [
    "Here we can see that destinations like Spain and Protugal is more popular between younger population and destinations like UK and Germany more popular among older"
   ]
  },
  {
   "cell_type": "code",
   "execution_count": 39,
   "id": "bbf0e4d2",
   "metadata": {},
   "outputs": [
    {
     "data": {
      "image/png": "[encoded data removed]",
      "text/plain": [
       "<Figure size 1500x500 with 1 Axes>"
      ]
     },
     "metadata": {},
     "output_type": "display_data"
    }
   ],
   "source": [
    "USERS['booked'] = USERS['country_destination'].apply(lambda x:1 if x!='NDF' else 0 )\n",
    "fig, ax = plt.subplots(1,1, figsize=(15, 5))\n",
    "\n",
    "(USERS.groupby(['booking_year', 'booking_month'])['booked'].sum() / USERS.shape[0] * 100).plot(kind='bar')\n",
    "\n",
    "plt.xlabel('Month and year of travel')\n",
    "plt.ylabel('%')\n",
    "plt.show()\n"
   ]
  },
  {
   "cell_type": "markdown",
   "id": "840b30df",
   "metadata": {},
   "source": [
    "Here we can see that there are more bookings in certain months, no matter the year pattern of growth is same where most booked months are 5,6,7"
   ]
  },
  {
   "cell_type": "code",
   "execution_count": null,
   "id": "cdd8df76",
   "metadata": {},
   "outputs": [],
   "source": [
    "seaborn.catplot(x=\"language\", y=\"age\", data=USERS[USERS['country_destination']!='NDF'], hue='country_destination', height=8, aspect=2)\n",
    "\n",
    "plt.ylim(18,100)\n",
    "\n",
    "seaborn.despine()"
   ]
  },
  {
   "cell_type": "markdown",
   "id": "713560f2",
   "metadata": {},
   "source": [
    "Here we can see that mostly people who speak english are traveling to all countries, but mostly in the US"
   ]
  },
  {
   "cell_type": "code",
   "execution_count": null,
   "id": "805bcbab",
   "metadata": {},
   "outputs": [],
   "source": [
    "users_without_us = USERS[USERS['country_destination']!='NDF']\n",
    "users_without_us = users_without_us[users_without_us['country_destination'] != 'US']\n",
    "seaborn.catplot(x=\"language\", y=\"age\", data=users_without_us, hue='country_destination', height=8, aspect=2)\n",
    "\n",
    "plt.ylim(18,100)\n",
    "\n",
    "seaborn.despine()"
   ]
  },
  {
   "cell_type": "markdown",
   "id": "25c164d4",
   "metadata": {},
   "source": [
    "After removing US as destination country to get more understanding we see much more variability in age for users speaking english\n",
    "Also we can see that people speaking zh are mostly choosing some other destinations"
   ]
  },
  {
   "cell_type": "code",
   "execution_count": null,
   "id": "03856b09",
   "metadata": {},
   "outputs": [],
   "source": [
    "plt.figure(figsize=(20,8))\n",
    "seaborn.boxplot(data=USERS[USERS['country_destination']!='NDF'], y='age', x='country_destination', hue='first_device_type')\n",
    "plt.ylim(18,100)\n",
    "\n",
    "seaborn.despine()"
   ]
  },
  {
   "cell_type": "markdown",
   "id": "ad9466f7",
   "metadata": {},
   "source": [
    "Here we can see destination by age and device type\n",
    "We can see the distribution of first device type in the first plot, with the majority of people using Mac desktops, followed by Windows desktops, and very few using Android device types.\n",
    "We can see from the second plot that older users who are using iPads as their primary device are more likely to book trips to GB and PT.\n",
    "Younger users who use iPhones tend to schedule trips to nations like the US, FR, CA, ES, IT, and PT\n",
    "Younger users who use tablets using the Android operating system travel to PT.\n",
    "Younger users who use Android devices travel to Great Britain.\n",
    "A senior user who is utilizing an unknown or other equipment travels to PT."
   ]
  },
  {
   "cell_type": "markdown",
   "id": "49f9de0f",
   "metadata": {},
   "source": [
    "## Building the model\n",
    "### Prepare training set"
   ]
  },
  {
   "cell_type": "code",
   "execution_count": null,
   "id": "9f9b0200",
   "metadata": {},
   "outputs": [],
   "source": [
    "TRAIN_SET.head()"
   ]
  },
  {
   "cell_type": "code",
   "execution_count": null,
   "id": "b6b89ed0",
   "metadata": {},
   "outputs": [],
   "source": [
    "TRAIN_Y = TRAIN_SET['country_destination'].values\n",
    "TRAIN_SET.drop(labels='country_destination', axis=1, inplace=True)"
   ]
  },
  {
   "cell_type": "code",
   "execution_count": null,
   "id": "073ceb1a",
   "metadata": {},
   "outputs": [],
   "source": [
    "TRAIN_SET['booking_day'].isnull().values.any()"
   ]
  },
  {
   "cell_type": "code",
   "execution_count": null,
   "id": "ffe5da69",
   "metadata": {},
   "outputs": [],
   "source": [
    "TRAIN_SET['booking_day'].fillna(0, inplace=True)\n",
    "TRAIN_SET['booking_month'].fillna(0, inplace=True)\n",
    "TRAIN_SET['booking_year'].fillna(0, inplace=True)\n",
    "TRAIN_SET.head(50)"
   ]
  },
  {
   "cell_type": "code",
   "execution_count": null,
   "id": "892a7c7b",
   "metadata": {},
   "outputs": [],
   "source": [
    "TRAIN_SET.loc[TRAIN_SET['age'].isnull(), 'age'] = TRAIN_SET['age'].median()"
   ]
  },
  {
   "cell_type": "code",
   "execution_count": null,
   "id": "dc136c42",
   "metadata": {},
   "outputs": [],
   "source": [
    "TRAIN_SET.to_csv('out/final_train_data.csv', index=False)\n",
    "print(TRAIN_SET.shape)\n",
    "TRAIN_SET.head(50)"
   ]
  },
  {
   "cell_type": "markdown",
   "id": "40739bb2",
   "metadata": {},
   "source": [
    "### Prepare test set"
   ]
  },
  {
   "cell_type": "code",
   "execution_count": null,
   "id": "d96ab958",
   "metadata": {},
   "outputs": [],
   "source": [
    "TEST_SET.head(50)"
   ]
  },
  {
   "cell_type": "code",
   "execution_count": null,
   "id": "c15eeaa8",
   "metadata": {},
   "outputs": [],
   "source": [
    "TEST_SET['booking_day'].fillna(0, inplace=True)\n",
    "TEST_SET['booking_month'].fillna(0, inplace=True)\n",
    "TEST_SET['booking_year'].fillna(0, inplace=True)\n",
    "TEST_SET.head(50)"
   ]
  },
  {
   "cell_type": "code",
   "execution_count": null,
   "id": "4849f3d9",
   "metadata": {},
   "outputs": [],
   "source": [
    "TEST_SET.loc[TEST_SET['age'].isnull(), 'age'] = TEST_SET['age'].median()\n",
    "TEST_SET.head(50)"
   ]
  },
  {
   "cell_type": "code",
   "execution_count": null,
   "id": "26be6bd3",
   "metadata": {},
   "outputs": [],
   "source": [
    "TRAIN_SET.to_csv('out/final_test_data.csv', index=False)\n",
    "print(TRAIN_SET.shape)\n",
    "TRAIN_SET.head(50)"
   ]
  },
  {
   "cell_type": "code",
   "execution_count": null,
   "id": "50679091",
   "metadata": {},
   "outputs": [],
   "source": [
    "def text_preprocess(tr_val, test_val):\n",
    "    vec = CountVectorizer()\n",
    "    vec.fit(tr_val)\n",
    "    # We use same vectorizer for both train and test data\n",
    "    return vec.transform(tr_val), vec.transform(test_val)\n",
    "\n",
    "tr_signup_method, test_signup_method = text_preprocess(TRAIN_SET['signup_method'].values,\n",
    "                                                       TEST_SET['signup_method'].values)\n",
    "\n",
    "tr_language, test_language = text_preprocess(TRAIN_SET['language'].values,\n",
    "                                             TEST_SET['language'].values)\n",
    "\n",
    "tr_affiliate_channel, test_affiliate_channel = text_preprocess(TRAIN_SET['affiliate_channel'].values,\n",
    "                                                               TEST_SET['affiliate_channel'].values)\n",
    "\n",
    "tr_affiliate_provider, test_affiliate_provider = text_preprocess(TRAIN_SET['affiliate_provider'].values,\n",
    "                                                                 TEST_SET['affiliate_provider'].values)\n",
    "\n",
    "tr_signup_app, test_signup_app = text_preprocess(TRAIN_SET['signup_app'].values,\n",
    "                                                 TEST_SET['signup_app'].values)\n",
    "\n",
    "tr_first_device_type, test_first_device_type = text_preprocess(TRAIN_SET['first_device_type'].values,\n",
    "                                                               TEST_SET['first_device_type'].values)\n",
    "\n",
    "tr_first_browser, test_first_browser = text_preprocess(TRAIN_SET['first_browser'].values,\n",
    "                                                       TEST_SET['first_browser'].values)"
   ]
  },
  {
   "cell_type": "code",
   "execution_count": null,
   "id": "c4d1c6ab",
   "metadata": {},
   "outputs": [],
   "source": [
    "def num_preprocess(val):\n",
    "    return val.values.reshape(-1, 1)\n",
    "\n",
    "tr_gender = num_preprocess(TRAIN_SET['gender'])\n",
    "test_gender = num_preprocess(TEST_SET['gender'])\n",
    "\n",
    "tr_age = num_preprocess(TRAIN_SET['age'])\n",
    "test_age = num_preprocess(TEST_SET['age'])\n",
    "\n",
    "tr_signup_flow = num_preprocess(TRAIN_SET['signup_flow'])\n",
    "test_signup_flow = num_preprocess(TEST_SET['signup_flow'])\n",
    "\n",
    "tr_created_day = num_preprocess(TRAIN_SET['created_day'])\n",
    "test_created_day = num_preprocess(TEST_SET['created_day'])\n",
    "\n",
    "tr_created_month = num_preprocess(TRAIN_SET['created_month'])\n",
    "test_created_month = num_preprocess(TEST_SET['created_month'])\n",
    "\n",
    "tr_created_year = num_preprocess(TRAIN_SET['created_year'])\n",
    "test_created_year = num_preprocess(TEST_SET['created_year'])\n",
    "\n",
    "tr_booking_day = num_preprocess(TRAIN_SET['booking_day'])\n",
    "test_booking_day = num_preprocess(TEST_SET['booking_day'])\n",
    "\n",
    "tr_booking_month = num_preprocess(TRAIN_SET['booking_month'])\n",
    "test_booking_month = num_preprocess(TEST_SET['booking_month'])\n",
    "\n",
    "tr_booking_year = num_preprocess(TRAIN_SET['booking_year'])\n",
    "test_booking_year = num_preprocess(TEST_SET['booking_year'])"
   ]
  },
  {
   "cell_type": "code",
   "execution_count": null,
   "id": "420a6021",
   "metadata": {},
   "outputs": [],
   "source": [
    "label_encoder = preprocessing.LabelEncoder()\n",
    "TRAIN_Y = label_encoder.fit_transform(TRAIN_Y).reshape(-1,1)"
   ]
  },
  {
   "cell_type": "code",
   "execution_count": null,
   "id": "1f0a731b",
   "metadata": {},
   "outputs": [],
   "source": [
    "TRAIN_X = hstack((\n",
    "    tr_gender,\n",
    "    tr_age,\n",
    "    tr_signup_method,\n",
    "    tr_signup_flow,\n",
    "    tr_language,\n",
    "    tr_affiliate_channel,\n",
    "    tr_affiliate_provider,\n",
    "    tr_signup_app,\n",
    "    tr_first_device_type,\n",
    "    tr_first_browser,\n",
    "    tr_created_day,\n",
    "    tr_created_month,\n",
    "    tr_created_year,\n",
    "    tr_booking_day,\n",
    "    tr_booking_month,\n",
    "    tr_booking_year\n",
    ")).tocsr()\n",
    "\n",
    "print(\"Final Training data\")\n",
    "print(TRAIN_X.shape, TRAIN_Y.shape)"
   ]
  },
  {
   "cell_type": "code",
   "execution_count": null,
   "id": "9523fbf4",
   "metadata": {},
   "outputs": [],
   "source": [
    "TEST_X = hstack((\n",
    "    test_gender,\n",
    "    test_age,\n",
    "    test_signup_method,\n",
    "    test_signup_flow,\n",
    "    test_language,\n",
    "    test_affiliate_channel,\n",
    "    test_affiliate_provider,\n",
    "    test_signup_app,\n",
    "    test_first_device_type,\n",
    "    test_first_browser,\n",
    "    test_created_day,\n",
    "    test_created_month,\n",
    "    test_created_year,\n",
    "    test_booking_day,\n",
    "    test_booking_month,\n",
    "    test_booking_year\n",
    ")).tocsr()\n",
    "\n",
    "print(\"Final Test data\")\n",
    "print(TEST_X.shape)"
   ]
  },
  {
   "cell_type": "code",
   "execution_count": null,
   "id": "c73991be",
   "metadata": {},
   "outputs": [],
   "source": [
    "from sklearn.model_selection import train_test_split\n",
    "TR_X_SPLIT, TEST_X_SPLIT, TR_Y_SPLIT, TEST_Y_SPLIT = train_test_split(TRAIN_X, TRAIN_Y, test_size=0.15, random_state=42)"
   ]
  },
  {
   "cell_type": "markdown",
   "id": "2458d555",
   "metadata": {},
   "source": [
    "## KNN (K-Nearest Neighbors)"
   ]
  },
  {
   "cell_type": "code",
   "execution_count": null,
   "id": "a41d12e8",
   "metadata": {},
   "outputs": [],
   "source": [
    "from sklearn.metrics import accuracy_score\n",
    "\n",
    "from sklearn.neighbors import KNeighborsClassifier\n",
    "alpha = [5, 11, 15, 20]\n",
    "for i in alpha:\n",
    "    knn = KNeighborsClassifier(n_neighbors=i)\n",
    "    knn.fit(TR_X_SPLIT, np.squeeze(TR_Y_SPLIT))\n",
    "    accuracy = knn.score(TEST_X_SPLIT, TEST_Y_SPLIT)\n",
    "    print(\"ACCURACY :: \", accuracy)"
   ]
  },
  {
   "cell_type": "markdown",
   "id": "1a9dde6b",
   "metadata": {},
   "source": [
    "### Naive Bayes"
   ]
  },
  {
   "cell_type": "code",
   "execution_count": null,
   "id": "58d9e930",
   "metadata": {},
   "outputs": [],
   "source": [
    "from sklearn.naive_bayes import GaussianNB\n",
    "\n",
    "nb = GaussianNB()\n",
    "nb.fit(TR_X_SPLIT.toarray(),np.squeeze(TR_Y_SPLIT))\n",
    "accuracy = nb.score(TEST_X_SPLIT.toarray(), np.squeeze(TEST_Y_SPLIT))\n",
    "print(\"ACCURACY :: \", accuracy)"
   ]
  },
  {
   "cell_type": "markdown",
   "id": "258f71b1",
   "metadata": {},
   "source": [
    "### Decision Tree"
   ]
  },
  {
   "cell_type": "code",
   "execution_count": null,
   "id": "9c9764dd",
   "metadata": {},
   "outputs": [],
   "source": [
    "from sklearn.tree import DecisionTreeClassifier\n",
    "max_depth=[1,2,4,5,6]\n",
    "min_samples_split=[5,10,50,100]\n",
    "\n",
    "for i in max_depth:\n",
    "    for j in min_samples_split:\n",
    "        d_tree = DecisionTreeClassifier(criterion='gini', max_depth=i , min_samples_split= j )\n",
    "        d_tree.fit(TR_X_SPLIT,TR_Y_SPLIT)\n",
    "        accuracy = d_tree.score(TEST_X_SPLIT, TEST_Y_SPLIT)\n",
    "        print(\"ACCURACY :: \", accuracy)"
   ]
  },
  {
   "cell_type": "code",
   "execution_count": null,
   "id": "1d5bc90e",
   "metadata": {},
   "outputs": [],
   "source": []
  }
 ],
 "metadata": {
  "kernelspec": {
   "display_name": "Python 3 (ipykernel)",
   "language": "python",
   "name": "python3"
  },
  "language_info": {
   "codemirror_mode": {
    "name": "ipython",
    "version": 3
   },
   "file_extension": ".py",
   "mimetype": "text/x-python",
   "name": "python",
   "nbconvert_exporter": "python",
   "pygments_lexer": "ipython3",
   "version": "3.9.13"
  }
 },
 "nbformat": 4,
 "nbformat_minor": 5
}
